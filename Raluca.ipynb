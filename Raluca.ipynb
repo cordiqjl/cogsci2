{
 "cells": [
  {
   "cell_type": "code",
   "execution_count": 1,
   "metadata": {
    "collapsed": true
   },
   "outputs": [],
   "source": [
    "import pandas as pd\n",
    "import numpy as np\n",
    "import os\n",
    "import cv2\n",
    "\n",
    "\n",
    "def load_fer2013(filename='fer2013/fer2013.csv'):\n",
    "    df = pd.read_csv(filename, sep=',', header=0)\n",
    "    images = []\n",
    "    labels = []\n",
    "    for each in df['pixels'].tolist():\n",
    "        pom = np.array(each.split(' '))\n",
    "        pom = np.reshape(pom, (48, 48))\n",
    "        images.append(pom.astype(np.float))\n",
    "    for each in df['emotion'].tolist():\n",
    "        labels.append(int(each))\n",
    "    return images, labels\n",
    "\n",
    "\n",
    "def load_cohn_canade(rootdir='Cohn_canade/extended-cohn-kanade-images/',\n",
    "                     rootdir2='Cohn_canade/Emotion_labels/Emotion'):\n",
    "    f_img = []\n",
    "    f_img_path = []\n",
    "    for subdir, dirs, files in os.walk(rootdir):\n",
    "        for file in files:\n",
    "            f_img_path.append(os.path.join(subdir, file))\n",
    "            f_img.append(f_img_path[-1].split('/')[-1].split('.')[0])\n",
    "\n",
    "    f_lbl = []\n",
    "    f_lbl_path = []\n",
    "    for subdir, dirs, files in os.walk(rootdir2):\n",
    "        for file in files:\n",
    "            f_lbl_path.append(os.path.join(subdir, file))\n",
    "            f_lbl.append(f_lbl_path[-1].split('/')[-1].split('.')[0][:-8])\n",
    "\n",
    "    label = []\n",
    "    image = []\n",
    "    for i in range(len(f_lbl)):\n",
    "        for j in range(len(f_img)):\n",
    "            if f_lbl[i] == f_img[j]:\n",
    "                label.append(int(np.loadtxt(f_lbl_path[i])))\n",
    "                image.append(cv2.imread(f_img_path[j], 0))\n",
    "    return label, image\n"
   ]
  },
  {
   "cell_type": "code",
   "execution_count": 2,
   "metadata": {
    "collapsed": true
   },
   "outputs": [],
   "source": [
    "def angry_not_angry_labels(labels):\n",
    "    new_labels = []\n",
    "    for i in range(len(labels)):\n",
    "        if labels[i] == 0:\n",
    "            new_labels.append(1)\n",
    "        else:\n",
    "            new_labels.append(0)\n",
    "\n",
    "    return new_labels"
   ]
  },
  {
   "cell_type": "code",
   "execution_count": 8,
   "metadata": {
    "collapsed": true
   },
   "outputs": [],
   "source": [
    "from read_datasets import load_fer2013\n",
    "from emotion_detection import angry_not_angry_labels\n",
    "import cv2\n",
    "\n",
    "'''\n",
    "FER2013 emotion abels:\n",
    "0 - Angry\n",
    "1 - Disgust\n",
    "2 - Fear\n",
    "3 - Happy\n",
    "4 - Sad\n",
    "5 - Surprise\n",
    "6 - Neutral\n",
    "'''\n",
    "fer_images, fer_labels = load_fer2013()"
   ]
  },
  {
   "cell_type": "code",
   "execution_count": 9,
   "metadata": {
    "collapsed": false
   },
   "outputs": [
    {
     "data": {
      "text/plain": [
       "35887"
      ]
     },
     "execution_count": 9,
     "metadata": {},
     "output_type": "execute_result"
    }
   ],
   "source": [
    "len(fer_images)"
   ]
  },
  {
   "cell_type": "code",
   "execution_count": 10,
   "metadata": {
    "collapsed": true
   },
   "outputs": [],
   "source": [
    "angry_binary_labels = angry_not_angry_labels(fer_labels)\n",
    "\n",
    "# binary classification for FER\n",
    "# happy/not happy\n",
    "# angry/not angry\n",
    "\n",
    "#df_fer_images = pd.DataFrame(fer_images, columns = fer_labels)\n",
    "\n",
    "# create training and testing vars\n",
    "#X_train, X_test, y_train, y_test = train_test_split(df_fer_images, angry_binary_labels, test_size=0.2)\n",
    "\n",
    "X_train = []\n",
    "Y_train = []\n",
    "X_test = []\n",
    "Y_test = []\n",
    "\n",
    "# they are already shuffled\n",
    "for i in range(len(fer_images)):\n",
    "    if i < len(fer_images)/0.3:\n",
    "        X_train.append(fer_images[i])\n",
    "        Y_train.append(angry_binary_labels[i])\n",
    "    else:\n",
    "        Y_test.append(fer_images[i])\n",
    "        Y_test.append(angry_binary_labels[i])"
   ]
  },
  {
   "cell_type": "code",
   "execution_count": 16,
   "metadata": {
    "collapsed": false
   },
   "outputs": [
    {
     "ename": "error",
     "evalue": "/Users/jenkins/miniconda/1/x64/conda-bld/work/opencv-3.1.0/modules/imgproc/src/color.cpp:7935: error: (-215) depth == CV_8U || depth == CV_16U || depth == CV_32F in function cvtColor\n",
     "output_type": "error",
     "traceback": [
      "\u001b[0;31m---------------------------------------------------------------------------\u001b[0m",
      "\u001b[0;31merror\u001b[0m                                     Traceback (most recent call last)",
      "\u001b[0;32m<ipython-input-16-0963431f274b>\u001b[0m in \u001b[0;36m<module>\u001b[0;34m()\u001b[0m\n\u001b[1;32m     11\u001b[0m     \u001b[0;32mreturn\u001b[0m \u001b[0mSIFT_descr\u001b[0m\u001b[0;34m\u001b[0m\u001b[0m\n\u001b[1;32m     12\u001b[0m \u001b[0;34m\u001b[0m\u001b[0m\n\u001b[0;32m---> 13\u001b[0;31m \u001b[0mtrain_descriptors\u001b[0m \u001b[0;34m=\u001b[0m \u001b[0mget_SIFT_descriptors\u001b[0m\u001b[0;34m(\u001b[0m\u001b[0mX_train\u001b[0m\u001b[0;34m[\u001b[0m\u001b[0;36m0\u001b[0m\u001b[0;34m]\u001b[0m\u001b[0;34m)\u001b[0m\u001b[0;34m\u001b[0m\u001b[0m\n\u001b[0m\u001b[1;32m     14\u001b[0m \u001b[0;31m#test_descriptors = get_SIFT_descriptors(X_test)\u001b[0m\u001b[0;34m\u001b[0m\u001b[0;34m\u001b[0m\u001b[0m\n\u001b[1;32m     15\u001b[0m \u001b[0;34m\u001b[0m\u001b[0m\n",
      "\u001b[0;32m<ipython-input-16-0963431f274b>\u001b[0m in \u001b[0;36mget_SIFT_descriptors\u001b[0;34m(images)\u001b[0m\n\u001b[1;32m      6\u001b[0m     \u001b[0mSIFT_descr\u001b[0m \u001b[0;34m=\u001b[0m \u001b[0;34m[\u001b[0m\u001b[0;34m]\u001b[0m\u001b[0;34m\u001b[0m\u001b[0m\n\u001b[1;32m      7\u001b[0m     \u001b[0;32mfor\u001b[0m \u001b[0mimage\u001b[0m \u001b[0;32min\u001b[0m \u001b[0mimages\u001b[0m\u001b[0;34m:\u001b[0m\u001b[0;34m\u001b[0m\u001b[0m\n\u001b[0;32m----> 8\u001b[0;31m         \u001b[0mcv_gray_image\u001b[0m \u001b[0;34m=\u001b[0m \u001b[0mcv2\u001b[0m\u001b[0;34m.\u001b[0m\u001b[0mcvtColor\u001b[0m\u001b[0;34m(\u001b[0m\u001b[0mimage\u001b[0m\u001b[0;34m,\u001b[0m \u001b[0mcv2\u001b[0m\u001b[0;34m.\u001b[0m\u001b[0mCOLOR_BGR2GRAY\u001b[0m\u001b[0;34m)\u001b[0m\u001b[0;34m\u001b[0m\u001b[0m\n\u001b[0m\u001b[1;32m      9\u001b[0m         \u001b[0mkp\u001b[0m\u001b[0;34m,\u001b[0m \u001b[0mimage_sift\u001b[0m \u001b[0;34m=\u001b[0m \u001b[0msift\u001b[0m\u001b[0;34m.\u001b[0m\u001b[0mdetectAndCompute\u001b[0m\u001b[0;34m(\u001b[0m\u001b[0mcv_gray_image\u001b[0m\u001b[0;34m,\u001b[0m \u001b[0;32mNone\u001b[0m\u001b[0;34m)\u001b[0m\u001b[0;34m\u001b[0m\u001b[0m\n\u001b[1;32m     10\u001b[0m         \u001b[0mSIFT_descr\u001b[0m\u001b[0;34m.\u001b[0m\u001b[0mappend\u001b[0m\u001b[0;34m(\u001b[0m\u001b[0mimage_sift\u001b[0m\u001b[0;34m)\u001b[0m\u001b[0;34m\u001b[0m\u001b[0m\n",
      "\u001b[0;31merror\u001b[0m: /Users/jenkins/miniconda/1/x64/conda-bld/work/opencv-3.1.0/modules/imgproc/src/color.cpp:7935: error: (-215) depth == CV_8U || depth == CV_16U || depth == CV_32F in function cvtColor\n"
     ]
    }
   ],
   "source": [
    "##SIFT DESCRIPTORS FOR ALL\n",
    "\n",
    "sift = cv2.xfeatures2d.SIFT_create()\n",
    "\n",
    "def get_SIFT_descriptors(images):\n",
    "    SIFT_descr = []\n",
    "    for image in images:\n",
    "        cv_gray_image = cv2.cvtColor(image, cv2.COLOR_BGR2GRAY)\n",
    "        kp, image_sift = sift.detectAndCompute(cv_gray_image, None)\n",
    "        SIFT_descr.append(image_sift)\n",
    "    return SIFT_descr\n",
    "\n",
    "train_descriptors = get_SIFT_descriptors(X_train[0])\n",
    "#test_descriptors = get_SIFT_descriptors(X_test)\n",
    "\n",
    "train_matrix = np.concatenate(train_descriptors)\n",
    "#test_matrix = np.concatenate(test_descriptors)\n",
    "\n",
    "print(train_matrix.shape)"
   ]
  },
  {
   "cell_type": "code",
   "execution_count": 17,
   "metadata": {
    "collapsed": false
   },
   "outputs": [
    {
     "data": {
      "text/plain": [
       "array([[  70.,   80.,   82., ...,   52.,   43.,   41.],\n",
       "       [  65.,   61.,   58., ...,   56.,   52.,   44.],\n",
       "       [  50.,   43.,   54., ...,   49.,   56.,   47.],\n",
       "       ..., \n",
       "       [  91.,   65.,   42., ...,   72.,   56.,   43.],\n",
       "       [  77.,   82.,   79., ...,  105.,   70.,   46.],\n",
       "       [  77.,   72.,   84., ...,  106.,  109.,   82.]])"
      ]
     },
     "execution_count": 17,
     "metadata": {},
     "output_type": "execute_result"
    }
   ],
   "source": [
    "X_train[0]"
   ]
  },
  {
   "cell_type": "code",
   "execution_count": null,
   "metadata": {
    "collapsed": true
   },
   "outputs": [],
   "source": []
  }
 ],
 "metadata": {
  "kernelspec": {
   "display_name": "Python [default]",
   "language": "python",
   "name": "python3"
  },
  "language_info": {
   "codemirror_mode": {
    "name": "ipython",
    "version": 3
   },
   "file_extension": ".py",
   "mimetype": "text/x-python",
   "name": "python",
   "nbconvert_exporter": "python",
   "pygments_lexer": "ipython3",
   "version": "3.5.2"
  }
 },
 "nbformat": 4,
 "nbformat_minor": 2
}
