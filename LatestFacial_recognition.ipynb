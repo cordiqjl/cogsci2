{
 "cells": [
  {
   "cell_type": "code",
   "execution_count": 3,
   "metadata": {
    "collapsed": true
   },
   "outputs": [],
   "source": [
    "import pandas as pd\n",
    "import numpy as np\n",
    "from matplotlib import pyplot as plt\n",
    "import cv2\n",
    "from scipy.ndimage.filters import gaussian_filter\n",
    "from copy import deepcopy\n",
    "\n",
    "import os"
   ]
  },
  {
   "cell_type": "code",
   "execution_count": 4,
   "metadata": {
    "collapsed": true
   },
   "outputs": [],
   "source": [
    "'''\n",
    "FER2013 emotion abels:\n",
    "0 - Angry\n",
    "1 - Disgust\n",
    "2 - Fear\n",
    "3 - Happy\n",
    "4 - Sad\n",
    "5 - Surprise\n",
    "6 - Neutral\n",
    "'''\n",
    "\n",
    "def load_fer2013(filename='fer2013/fer2013.csv'):\n",
    "    df = pd.read_csv(filename, sep=',',header=0)\n",
    "    images = []\n",
    "    labels = []\n",
    "    for each in df['pixels'].tolist():\n",
    "        pom = np.array(each.split(' '))\n",
    "        pom = np.reshape(pom, (48,48))\n",
    "        #pom = cv2.normalize(pom.astype('float'), None, 0.0, 1.0, cv2.NORM_MINMAX)\n",
    "        images.append(pom)\n",
    "    for each in df['emotion'].tolist():\n",
    "        labels.append(int(each))\n",
    "    return images, labels\n",
    "\n",
    "'''\n",
    "CC emotion labels:\n",
    "1 - Angry 45\n",
    "2 - Contempt 18\n",
    "3 - Disgust 59\n",
    "4 - Fear 25\n",
    "5 - Happy 69\n",
    "6 - Sadness 28\n",
    "7 - Surprise 83\n",
    "'''\n",
    "def load_cohn_canade(rootdir='Cohn_canade/extended-cohn-kanade-images/',\n",
    "                     rootdir2='Cohn_canade/Emotion_labels/Emotion'):\n",
    "    f_img = []\n",
    "    f_img_path = []\n",
    "    for subdir, dirs, files in os.walk(rootdir):\n",
    "        for file in files:\n",
    "            f_img_path.append(os.path.join(subdir, file))\n",
    "            f_img.append(f_img_path[-1].split('/')[-1].split('.')[0])\n",
    "\n",
    "\n",
    "    f_lbl = []\n",
    "    f_lbl_path = []\n",
    "    for subdir, dirs, files in os.walk(rootdir2):\n",
    "        for file in files:\n",
    "            f_lbl_path.append(os.path.join(subdir, file))\n",
    "            f_lbl.append(f_lbl_path[-1].split('/')[-1].split('.')[0][:-8])\n",
    "\n",
    "    labels = []\n",
    "    images = []\n",
    "    for i in range(len(f_lbl)):\n",
    "        for j in range(len(f_img)):\n",
    "            if f_lbl[i] == f_img[j]:\n",
    "                labels.append(int(np.loadtxt(f_lbl_path[i])))\n",
    "                images.append(cv2.imread(f_img_path[j],0))\n",
    "    return images, labels\n",
    "\n",
    "# HAAR Cascades\n",
    "def locate_face(img_list, label_list, haar='haarcascade_frontalface_default.xml'):\n",
    "    face_cascade = cv2.CascadeClassifier(haar)\n",
    "    ilist = deepcopy(img_list)\n",
    "    llist = deepcopy(label_list)\n",
    "    j = []\n",
    "    for i in range(len(ilist)):\n",
    "        ilist[i] = gaussian_filter(ilist[i], 1)\n",
    "        faces = face_cascade.detectMultiScale(ilist[i], 1.3, 5)\n",
    "        if len(faces) == 1:\n",
    "            for (x,y,w,h) in faces:    \n",
    "                ilist[i] = ilist[i][y:(y+h), x:(x+w)]\n",
    "                ilist[i] = cv2.resize(ilist[i], (48, 48))\n",
    "        else:\n",
    "            print('Either more than 1 or no face detected.')\n",
    "            print('Removing image ' + str(i) + ' from collection.')\n",
    "            j.append(i)\n",
    "    for each in j:\n",
    "        del ilist[each]\n",
    "        del llist[each]\n",
    "\n",
    "    return ilist, llist\n",
    "\n",
    "def floatify(ilist):\n",
    "    for i in range(len(ilist)):\n",
    "        ilist[i] = cv2.normalize(ilist[i].astype('float'), None, 0.0, 1.0, cv2.NORM_MINMAX)\n",
    "    return ilist\n",
    "\n",
    "def load_everything():\n",
    "    fer_images, fer_labels = load_fer2013()\n",
    "    cc_images, cc_labels = load_cohn_canade()\n",
    "    \n",
    "    cc_images, cc_labels = locate_face(cc_images, cc_labels)\n",
    "    cc_images = floatify(cc_images)\n",
    "    \n",
    "    return fer_images, fer_labels, cc_images, cc_labels"
   ]
  },
  {
   "cell_type": "code",
   "execution_count": 5,
   "metadata": {},
   "outputs": [
    {
     "name": "stdout",
     "output_type": "stream",
     "text": [
      "Either more than 1 or no face detected.\n",
      "Removing image 134 from collection.\n"
     ]
    }
   ],
   "source": [
    "fer_images, fer_labels, cc_images, cc_labels = load_everything()"
   ]
  },
  {
   "cell_type": "code",
   "execution_count": 4,
   "metadata": {
    "collapsed": true
   },
   "outputs": [
    {
     "name": "stdout",
     "output_type": "stream",
     "text": [
      "0\n"
     ]
    },
    {
     "data": {
      "image/png": "[encoded data removed]",
      "text/plain": [
       "<matplotlib.figure.Figure at 0x1123c9908>"
      ]
     },
     "metadata": {},
     "output_type": "display_data"
    },
    {
     "name": "stdout",
     "output_type": "stream",
     "text": [
      "[[ 0.29648241  0.34673367  0.35678392 ...,  0.20603015  0.16080402\n",
      "   0.15075377]\n",
      " [ 0.27135678  0.25125628  0.2361809  ...,  0.22613065  0.20603015\n",
      "   0.16582915]\n",
      " [ 0.1959799   0.16080402  0.2160804  ...,  0.19095477  0.22613065\n",
      "   0.18090452]\n",
      " ..., \n",
      " [ 0.40201005  0.27135678  0.15577889 ...,  0.30653266  0.22613065\n",
      "   0.16080402]\n",
      " [ 0.33165829  0.35678392  0.34170854 ...,  0.47236181  0.29648241\n",
      "   0.1758794 ]\n",
      " [ 0.33165829  0.30653266  0.36683417 ...,  0.47738693  0.49246231\n",
      "   0.35678392]]\n"
     ]
    },
    {
     "ename": "IndexError",
     "evalue": "list index out of range",
     "output_type": "error",
     "traceback": [
      "\u001b[0;31m---------------------------------------------------------------------------\u001b[0m",
      "\u001b[0;31mIndexError\u001b[0m                                Traceback (most recent call last)",
      "\u001b[0;32m<ipython-input-4-c30fe8bf0a12>\u001b[0m in \u001b[0;36m<module>\u001b[0;34m()\u001b[0m\n\u001b[1;32m      4\u001b[0m \u001b[0mprint\u001b[0m\u001b[0;34m(\u001b[0m\u001b[0mfer_images\u001b[0m\u001b[0;34m[\u001b[0m\u001b[0;36m0\u001b[0m\u001b[0;34m]\u001b[0m\u001b[0;34m)\u001b[0m\u001b[0;34m\u001b[0m\u001b[0m\n\u001b[1;32m      5\u001b[0m \u001b[0;34m\u001b[0m\u001b[0m\n\u001b[0;32m----> 6\u001b[0;31m \u001b[0mprint\u001b[0m\u001b[0;34m(\u001b[0m\u001b[0mcc_labels\u001b[0m\u001b[0;34m[\u001b[0m\u001b[0;36m0\u001b[0m\u001b[0;34m]\u001b[0m\u001b[0;34m)\u001b[0m\u001b[0;34m\u001b[0m\u001b[0m\n\u001b[0m\u001b[1;32m      7\u001b[0m \u001b[0mplt\u001b[0m\u001b[0;34m.\u001b[0m\u001b[0mimshow\u001b[0m\u001b[0;34m(\u001b[0m\u001b[0mimage_list\u001b[0m\u001b[0;34m[\u001b[0m\u001b[0;36m0\u001b[0m\u001b[0;34m]\u001b[0m\u001b[0;34m,\u001b[0m \u001b[0mcmap\u001b[0m \u001b[0;34m=\u001b[0m \u001b[0;34m'gray'\u001b[0m\u001b[0;34m)\u001b[0m\u001b[0;34m\u001b[0m\u001b[0m\n\u001b[1;32m      8\u001b[0m \u001b[0mplt\u001b[0m\u001b[0;34m.\u001b[0m\u001b[0mshow\u001b[0m\u001b[0;34m(\u001b[0m\u001b[0;34m)\u001b[0m\u001b[0;34m\u001b[0m\u001b[0m\n",
      "\u001b[0;31mIndexError\u001b[0m: list index out of range"
     ]
    }
   ],
   "source": [
    "print(fer_labels[0])\n",
    "plt.imshow(fer_images[0], cmap = 'gray')\n",
    "plt.show()\n",
    "print(fer_images[0])\n",
    "\n",
    "print(cc_labels[0])\n",
    "plt.imshow(image_list[0], cmap = 'gray')\n",
    "plt.show()\n",
    "print(cc_images[0])"
   ]
  },
  {
   "cell_type": "code",
   "execution_count": 6,
   "metadata": {},
   "outputs": [
    {
     "name": "stdout",
     "output_type": "stream",
     "text": [
      "35887 35887 326 326\n"
     ]
    }
   ],
   "source": [
    "print(len(fer_images), len(fer_labels), len(cc_images), len(cc_labels))"
   ]
  },
  {
   "cell_type": "code",
   "execution_count": 7,
   "metadata": {
    "collapsed": true
   },
   "outputs": [],
   "source": [
    "def angry_not_angry_labels(labels):\n",
    "    new_labels = []\n",
    "    for i in range(len(labels)):\n",
    "        if labels[i] == 0:\n",
    "            new_labels.append(1)\n",
    "        else:\n",
    "            new_labels.append(0)\n",
    "\n",
    "    return new_labels"
   ]
  },
  {
   "cell_type": "code",
   "execution_count": 8,
   "metadata": {
    "collapsed": true
   },
   "outputs": [],
   "source": [
    "angry_binary_labels = angry_not_angry_labels(fer_labels)"
   ]
  },
  {
   "cell_type": "code",
   "execution_count": 9,
   "metadata": {
    "collapsed": true
   },
   "outputs": [],
   "source": [
    "X_train = []\n",
    "Y_train = []\n",
    "X_test = []\n",
    "Y_test = []\n",
    "\n",
    "# they are already shuffled\n",
    "for i in range(len(fer_images)):\n",
    "    if i < len(fer_images)/0.3:\n",
    "        X_train.append(fer_images[i].astype(\"uint8\"))\n",
    "        Y_train.append(angry_binary_labels[i])\n",
    "    else:\n",
    "        Y_test.append(fer_images[i].astype(\"uint8\"))\n",
    "        Y_test.append(angry_binary_labels[i])"
   ]
  },
  {
   "cell_type": "code",
   "execution_count": 10,
   "metadata": {
    "collapsed": true
   },
   "outputs": [],
   "source": [
    "sift = cv2.xfeatures2d.SIFT_create()"
   ]
  },
  {
   "cell_type": "code",
   "execution_count": 11,
   "metadata": {},
   "outputs": [
    {
     "data": {
      "text/plain": [
       "(48, 48)"
      ]
     },
     "execution_count": 11,
     "metadata": {},
     "output_type": "execute_result"
    }
   ],
   "source": [
    "fer_images[0].shape"
   ]
  },
  {
   "cell_type": "code",
   "execution_count": 12,
   "metadata": {},
   "outputs": [
    {
     "data": {
      "text/plain": [
       "(48, 48)"
      ]
     },
     "execution_count": 12,
     "metadata": {},
     "output_type": "execute_result"
    }
   ],
   "source": [
    "X_train[0].shape"
   ]
  },
  {
   "cell_type": "code",
   "execution_count": 13,
   "metadata": {},
   "outputs": [
    {
     "data": {
      "text/plain": [
       "array([['70', '80', '82', ..., '52', '43', '41'],\n",
       "       ['65', '61', '58', ..., '56', '52', '44'],\n",
       "       ['50', '43', '54', ..., '49', '56', '47'],\n",
       "       ..., \n",
       "       ['91', '65', '42', ..., '72', '56', '43'],\n",
       "       ['77', '82', '79', ..., '105', '70', '46'],\n",
       "       ['77', '72', '84', ..., '106', '109', '82']], \n",
       "      dtype='<U3')"
      ]
     },
     "execution_count": 13,
     "metadata": {},
     "output_type": "execute_result"
    }
   ],
   "source": [
    "fer_images[0]"
   ]
  },
  {
   "cell_type": "code",
   "execution_count": 14,
   "metadata": {},
   "outputs": [
    {
     "data": {
      "text/plain": [
       "array([[ 70,  80,  82, ...,  52,  43,  41],\n",
       "       [ 65,  61,  58, ...,  56,  52,  44],\n",
       "       [ 50,  43,  54, ...,  49,  56,  47],\n",
       "       ..., \n",
       "       [ 91,  65,  42, ...,  72,  56,  43],\n",
       "       [ 77,  82,  79, ..., 105,  70,  46],\n",
       "       [ 77,  72,  84, ..., 106, 109,  82]], dtype=uint8)"
      ]
     },
     "execution_count": 14,
     "metadata": {},
     "output_type": "execute_result"
    }
   ],
   "source": [
    "X_train[0]"
   ]
  },
  {
   "cell_type": "code",
   "execution_count": 16,
   "metadata": {},
   "outputs": [
    {
     "data": {
      "image/png": "[encoded data removed]",
      "text/plain": [
       "<matplotlib.figure.Figure at 0x12dd1da90>"
      ]
     },
     "metadata": {},
     "output_type": "display_data"
    }
   ],
   "source": [
    "plt.imshow(fer_images[111].astype('float'), cmap = 'gray')\n",
    "plt.show()"
   ]
  },
  {
   "cell_type": "code",
   "execution_count": 17,
   "metadata": {},
   "outputs": [
    {
     "data": {
      "image/png": "[encoded data removed]",
      "text/plain": [
       "<matplotlib.figure.Figure at 0x112b7bd30>"
      ]
     },
     "metadata": {},
     "output_type": "display_data"
    }
   ],
   "source": [
    "plt.imshow(X_train[111].astype('float'), cmap = 'gray')\n",
    "plt.show()"
   ]
  },
  {
   "cell_type": "code",
   "execution_count": 22,
   "metadata": {},
   "outputs": [],
   "source": [
    "#cv_gray_image = cv2.cvtColor(X_train[0], cv2.COLOR_BGR2GRAY)\n",
    "kp, image_sift = sift.detectAndCompute(X_train[0], None)"
   ]
  },
  {
   "cell_type": "code",
   "execution_count": 23,
   "metadata": {},
   "outputs": [
    {
     "data": {
      "text/plain": [
       "True"
      ]
     },
     "execution_count": 23,
     "metadata": {},
     "output_type": "execute_result"
    }
   ],
   "source": [
    "img = cv2.drawKeypoints(X_train[0], kp, outImage=image_sift, \n",
    "                        flags= cv2.DRAW_MATCHES_FLAGS_DRAW_RICH_KEYPOINTS)\n",
    "\n",
    "cv2.imwrite('example_keypoints.jpg',img.astype('float'))"
   ]
  },
  {
   "cell_type": "code",
   "execution_count": 24,
   "metadata": {
    "collapsed": true,
    "scrolled": false
   },
   "outputs": [],
   "source": [
    "def get_SIFT_descriptors(images):\n",
    "    SIFT_descr = []\n",
    "    for image in images:\n",
    "        #cv_gray_image = cv2.cvtColor(image, cv2.COLOR_BGR2GRAY)\n",
    "        kp, image_sift = sift.detectAndCompute(image.astype(\"uint8\"), None)\n",
    "        SIFT_descr.append(image_sift)\n",
    "    return SIFT_descr"
   ]
  },
  {
   "cell_type": "code",
   "execution_count": 25,
   "metadata": {
    "collapsed": true
   },
   "outputs": [],
   "source": [
    "train_descriptors = get_SIFT_descriptors(X_train)"
   ]
  },
  {
   "cell_type": "code",
   "execution_count": null,
   "metadata": {
    "collapsed": true
   },
   "outputs": [],
   "source": []
  },
  {
   "cell_type": "code",
   "execution_count": null,
   "metadata": {
    "collapsed": true
   },
   "outputs": [],
   "source": []
  }
 ],
 "metadata": {
  "anaconda-cloud": {},
  "kernelspec": {
   "display_name": "Python [Root]",
   "language": "python",
   "name": "Python [Root]"
  },
  "language_info": {
   "codemirror_mode": {
    "name": "ipython",
    "version": 3
   },
   "file_extension": ".py",
   "mimetype": "text/x-python",
   "name": "python",
   "nbconvert_exporter": "python",
   "pygments_lexer": "ipython3",
   "version": "3.5.2"
  }
 },
 "nbformat": 4,
 "nbformat_minor": 1
}
